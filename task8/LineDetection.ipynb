{
 "cells": [
  {
   "cell_type": "code",
   "execution_count": 41,
   "outputs": [],
   "source": [
    "import cv2 as cv\n",
    "import numpy as np"
   ],
   "metadata": {
    "collapsed": false
   }
  },
  {
   "cell_type": "code",
   "execution_count": 42,
   "outputs": [],
   "source": [
    "img = cv.imread('Task-8.jpg')\n",
    "gray = cv.cvtColor(img, cv.COLOR_BGR2GRAY)\n",
    "rho_size = 1.0\n",
    "theta_degrees_value = 360\n",
    "hough_threshold = 200\n",
    "canny_low_threshold = 50\n",
    "canny_high_threshold = 150\n",
    "aperture_size = 3\n",
    "min_line_length = 10\n",
    "max_line_gap = 10"
   ],
   "metadata": {
    "collapsed": false
   }
  },
  {
   "cell_type": "code",
   "execution_count": 43,
   "outputs": [],
   "source": [
    "def update():\n",
    "\tedges = cv.Canny(gray, canny_low_threshold, canny_high_threshold, apertureSize=aperture_size)  # work only with 3 or 5\n",
    "\tlines = cv.HoughLinesP(edges, rho_size, np.pi / theta_degrees_value, hough_threshold, minLineLength=min_line_length, maxLineGap=max_line_gap)\n",
    "\tres = img.copy()\n",
    "\tfor line in lines:\n",
    "\t\tx1, y1, x2, y2 = line[0]\n",
    "\t\tcv.line(res, (x1, y1), (x2, y2), (0, 0, 255), 2)\n",
    "\tcv.imshow('image', res)\n",
    "\n",
    "\n",
    "def change_rho_size(val):\n",
    "\tglobal rho_size\n",
    "\tif val > 0:\n",
    "\t\trho_size = val / 100\n",
    "\t\tupdate()\n",
    "\n",
    "\n",
    "def change_theta_size(val):\n",
    "\tglobal theta_degrees_value\n",
    "\tif val > 0:\n",
    "\t\ttheta_degrees_value = val\n",
    "\t\tupdate()\n",
    "\n",
    "\n",
    "def change_hough_treshold(val):\n",
    "\tglobal hough_threshold\n",
    "\though_threshold = val\n",
    "\tupdate()\n",
    "\n",
    "\n",
    "def change_low_treshold(val):\n",
    "\tglobal canny_low_threshold\n",
    "\tcanny_low_threshold = val\n",
    "\tupdate()\n",
    "\n",
    "\n",
    "def change_high_threshold(val):\n",
    "\tglobal canny_high_threshold\n",
    "\tcanny_high_threshold = val\n",
    "\tupdate()\n",
    "\n",
    "def change_min_line_length(val):\n",
    "\tglobal min_line_length\n",
    "\tmin_line_length = val\n",
    "\tupdate()\n",
    "\n",
    "def change_max_line_gap(val):\n",
    "\tglobal max_line_gap\n",
    "\tmax_line_gap = val\n",
    "\tupdate()"
   ],
   "metadata": {
    "collapsed": false
   }
  },
  {
   "cell_type": "code",
   "execution_count": 44,
   "outputs": [],
   "source": [
    "cv.imshow('Image', img)\n",
    "cv.namedWindow('Params')\n",
    "cv.createTrackbar('rho', 'Params', 100, 1000, change_rho_size)\n",
    "cv.createTrackbar('theta', 'Params', theta_degrees_value, 360, change_theta_size)\n",
    "cv.createTrackbar('hough threshold', 'Params', hough_threshold, 500, change_hough_treshold)\n",
    "cv.createTrackbar('low threshold', 'Params', low_threshold, 500, change_low_treshold)\n",
    "cv.createTrackbar('high threshold', 'Params', high_threshold, 500, change_high_threshold)\n",
    "cv.createTrackbar('min line length', 'Params', min_line_length, 50, change_min_line_length)\n",
    "cv.createTrackbar('max line gap', 'Params', max_line_gap, 50, change_max_line_gap)\n",
    "cv.waitKey(0)\n",
    "cv.destroyAllWindows()"
   ],
   "metadata": {
    "collapsed": false
   }
  }
 ],
 "metadata": {
  "kernelspec": {
   "display_name": "Python 3",
   "language": "python",
   "name": "python3"
  },
  "language_info": {
   "codemirror_mode": {
    "name": "ipython",
    "version": 2
   },
   "file_extension": ".py",
   "mimetype": "text/x-python",
   "name": "python",
   "nbconvert_exporter": "python",
   "pygments_lexer": "ipython2",
   "version": "2.7.6"
  }
 },
 "nbformat": 4,
 "nbformat_minor": 0
}
