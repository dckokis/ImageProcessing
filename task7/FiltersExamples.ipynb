{
 "cells": [
  {
   "cell_type": "code",
   "execution_count": 7,
   "metadata": {
    "collapsed": true
   },
   "outputs": [],
   "source": [
    "import cv2 as cv\n",
    "import numpy as np"
   ]
  },
  {
   "cell_type": "code",
   "execution_count": 8,
   "outputs": [],
   "source": [
    "lena = cv.imread('lena.png')\n",
    "lena = cv.cvtColor(lena, cv.COLOR_BGR2GRAY)"
   ],
   "metadata": {
    "collapsed": false
   }
  },
  {
   "cell_type": "code",
   "execution_count": 9,
   "outputs": [],
   "source": [
    "def Gaussian(_noisedImage, kernelSize):\n",
    "\treturn cv.blur(_noisedImage, (kernelSize, kernelSize))\n",
    "\n",
    "\n",
    "def Median(_noisedImage, kernelSize):\n",
    "\tif kernelSize % 2 == 0:\n",
    "\t\tkernelSize += 1\n",
    "\treturn cv.medianBlur(_noisedImage, kernelSize)\n",
    "\n",
    "\n",
    "def Filter2D(_noisedImage, kernelSize):\n",
    "\treturn cv.filter2D(_noisedImage, cv.CV_8U,\n",
    "\t\t\t\t\t   np.ones((kernelSize, kernelSize), dtype=np.float64) / (kernelSize * kernelSize))\n",
    "\n",
    "\n",
    "def Sobel(_noisedImage, kernelSize):\n",
    "\tif kernelSize % 2 != 1:\n",
    "\t\tkernelSize += 1\n",
    "\treturn cv.Sobel(cv.blur(_noisedImage, (kernelSize, kernelSize)), cv.CV_64F, 1, 1, ksize=kernelSize)\n",
    "\n",
    "\n",
    "def Laplacian(_noisedImage, kernelSize):\n",
    "\tif kernelSize % 2 != 1:\n",
    "\t\tkernelSize += 1\n",
    "\treturn cv.Laplacian(cv.blur(_noisedImage, (kernelSize, kernelSize)), cv.CV_64F, ksize=kernelSize)"
   ],
   "metadata": {
    "collapsed": false
   }
  },
  {
   "cell_type": "code",
   "execution_count": 10,
   "outputs": [],
   "source": [
    "def noise(img, noise_intensity, _is_normal):\n",
    "\treturn cv.randn(np.zeros(img.shape), 0, noise_intensity) if _is_normal else cv.randu(np.zeros(img.shape),\n",
    "\t\t\t\t\t\t\t\t\t\t\t\t\t\t\t\t\t\t\t\t\t\t -noise_intensity,\n",
    "\t\t\t\t\t\t\t\t\t\t\t\t\t\t\t\t\t\t\t\t\t\t noise_intensity)\n",
    "\n",
    "\n",
    "def addNoiseToImage(img, noise_intensity, _is_normal):\n",
    "\treturn np.uint8(np.clip(cv.add(np.float64(img), noise(img, noise_intensity, _is_normal)), 0, 255))\n",
    "\n",
    "\n",
    "def filtrateImage(_noisedImage, _typeOfFilter, kernelSize):\n",
    "\tif _typeOfFilter == \"Gaussian\":\n",
    "\t\treturn Gaussian(_noisedImage, kernelSize)\n",
    "\telif _typeOfFilter == \"Median\":\n",
    "\t\treturn Median(_noisedImage, kernelSize)\n",
    "\telif _typeOfFilter == \"Filter2D\":\n",
    "\t\treturn Filter2D(_noisedImage, kernelSize)\n",
    "\telif _typeOfFilter == \"Sobel\":\n",
    "\t\treturn Sobel(_noisedImage, kernelSize)\n",
    "\telif _typeOfFilter == \"Laplacian\":\n",
    "\t\treturn Laplacian(_noisedImage, kernelSize)\n",
    "\telse:\n",
    "\t\treturn None\n",
    "\n",
    "\n",
    "is_normal = True\n",
    "noiseIntensity = 40\n",
    "sizeOfKernel = 3\n",
    "typesOfFilters = list((\"Gaussian\", \"Median\", \"Filter2D\", \"Sobel\", \"Laplacian\"))\n",
    "typeOfFilter = 0\n",
    "\n",
    "noisedImage = addNoiseToImage(lena, 40, True)\n",
    "filteredImage = filtrateImage(noisedImage, typesOfFilters[typeOfFilter], sizeOfKernel)"
   ],
   "metadata": {
    "collapsed": false
   }
  },
  {
   "cell_type": "code",
   "execution_count": 11,
   "outputs": [],
   "source": [
    "def update():\n",
    "\tglobal filteredImage\n",
    "\tfilteredImage = filtrateImage(noisedImage, typesOfFilters[typeOfFilter], sizeOfKernel)\n",
    "\tcv.imshow(\"Result\", filteredImage)\n",
    "\tcv.imshow(\"Noised\", noisedImage)\n",
    "\n",
    "\n",
    "def changeNoizeIntensity(val):\n",
    "\tglobal noisedImage\n",
    "\tglobal noiseIntensity\n",
    "\tnoiseIntensity = val\n",
    "\tnoisedImage = addNoiseToImage(lena, noiseIntensity, is_normal)\n",
    "\tupdate()\n",
    "\n",
    "\n",
    "def changeTypeOfNoiseDistribution(val):\n",
    "\tglobal noisedImage\n",
    "\tglobal is_normal\n",
    "\tif val == 1:\n",
    "\t\tis_normal = True\n",
    "\telse:\n",
    "\t\tis_normal = False\n",
    "\tnoisedImage = addNoiseToImage(lena, noiseIntensity, is_normal)\n",
    "\tupdate()\n",
    "\n",
    "\n",
    "def changeKernelSize(val):\n",
    "\tglobal sizeOfKernel\n",
    "\tglobal filteredImage\n",
    "\tif val > 0:\n",
    "\t\tsizeOfKernel = val\n",
    "\t\tupdate()\n",
    "\n",
    "\n",
    "def switchFilterType(val):\n",
    "\tglobal filteredImage\n",
    "\tglobal typeOfFilter\n",
    "\ttypeOfFilter = val\n",
    "\tupdate()"
   ],
   "metadata": {
    "collapsed": false
   }
  },
  {
   "cell_type": "code",
   "execution_count": 12,
   "outputs": [],
   "source": [
    "cv.imshow(\"Result\", lena)\n",
    "cv.createTrackbar(\"Type of Filter\", \"Result\", 0, 4, switchFilterType)\n",
    "cv.createTrackbar(\"Kernel size\", \"Result\", 3, 30, changeKernelSize)\n",
    "cv.imshow(\"Noised\", noisedImage)\n",
    "cv.createTrackbar(\"Intensity\", \"Noised\", 40, 500, changeNoizeIntensity)\n",
    "cv.createTrackbar(\"Normal/Uniform\", \"Noised\", 1, 1, changeTypeOfNoiseDistribution)\n",
    "cv.waitKey(0)\n",
    "cv.destroyAllWindows()"
   ],
   "metadata": {
    "collapsed": false
   }
  }
 ],
 "metadata": {
  "kernelspec": {
   "display_name": "Python 3",
   "language": "python",
   "name": "python3"
  },
  "language_info": {
   "codemirror_mode": {
    "name": "ipython",
    "version": 2
   },
   "file_extension": ".py",
   "mimetype": "text/x-python",
   "name": "python",
   "nbconvert_exporter": "python",
   "pygments_lexer": "ipython2",
   "version": "2.7.6"
  }
 },
 "nbformat": 4,
 "nbformat_minor": 0
}
