{
 "cells": [
  {
   "cell_type": "code",
   "execution_count": 1,
   "metadata": {
    "collapsed": true
   },
   "outputs": [],
   "source": [
    "import cv2 as cv\n",
    "import matplotlib.pyplot as plt"
   ]
  },
  {
   "cell_type": "code",
   "execution_count": 2,
   "outputs": [],
   "source": [
    "from sklearn.ensemble import RandomForestClassifier\n",
    "import os, os.path\n",
    "\n",
    "\n",
    "X = []\n",
    "y = []\n",
    "\n",
    "size = 200\n",
    "# create dataset first\n",
    "for f in os.listdir('/Users/konstantin/ImageProcessing/task16/dataset/badger'):\n",
    "    img = cv.imread('/Users/konstantin/ImageProcessing/task16/dataset/badger/' + f, 0)\n",
    "    img = cv.resize(img, (size, size))\n",
    "    data = img.ravel()\n",
    "    X.append(data)\n",
    "    y.append(0)\n",
    "for f in os.listdir('/Users/konstantin/ImageProcessing/task16/dataset/chipmunk'):\n",
    "    img = cv.imread('/Users/konstantin/ImageProcessing/task16/dataset/chipmunk/' + f, 0)\n",
    "    img = cv.resize(img, (size, size))\n",
    "    data = img.ravel()\n",
    "    X.append(data)\n",
    "    y.append(1)\n",
    "    # print(data)"
   ],
   "metadata": {
    "collapsed": false
   }
  },
  {
   "cell_type": "code",
   "execution_count": 4,
   "outputs": [
    {
     "name": "stdout",
     "output_type": "stream",
     "text": [
      "[0]\n",
      "[1]\n"
     ]
    }
   ],
   "source": [
    "clf = RandomForestClassifier(max_depth=2, random_state=0)\n",
    "clf.fit(X, y)\n",
    "\n",
    "test = []\n",
    "\n",
    "for f in os.listdir('/Users/konstantin/ImageProcessing/task16/dataset/test'):\n",
    "    img = cv.imread('/Users/konstantin/ImageProcessing/task16/dataset/test/' + f, 0)\n",
    "    img = cv.resize(img, (size, size))\n",
    "    data = img.ravel()\n",
    "    test.append(data)\n",
    "\n",
    "pred = clf.predict([test[0]])\n",
    "print(pred)"
   ],
   "metadata": {
    "collapsed": false
   }
  },
  {
   "cell_type": "code",
   "execution_count": 3,
   "outputs": [],
   "source": [],
   "metadata": {
    "collapsed": false
   }
  }
 ],
 "metadata": {
  "kernelspec": {
   "display_name": "Python 3",
   "language": "python",
   "name": "python3"
  },
  "language_info": {
   "codemirror_mode": {
    "name": "ipython",
    "version": 2
   },
   "file_extension": ".py",
   "mimetype": "text/x-python",
   "name": "python",
   "nbconvert_exporter": "python",
   "pygments_lexer": "ipython2",
   "version": "2.7.6"
  }
 },
 "nbformat": 4,
 "nbformat_minor": 0
}
