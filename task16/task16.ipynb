{
 "cells": [
  {
   "cell_type": "code",
   "execution_count": 20,
   "metadata": {
    "collapsed": true
   },
   "outputs": [],
   "source": [
    "import cv2 as cv\n",
    "import matplotlib.pyplot as plt"
   ]
  },
  {
   "cell_type": "code",
   "execution_count": 21,
   "outputs": [],
   "source": [
    "from sklearn.ensemble import RandomForestClassifier\n",
    "import os, os.path\n",
    "\n",
    "\n",
    "X = []\n",
    "y = []\n",
    "\n",
    "size = 200\n",
    "# create dataset first\n",
    "for f in os.listdir('/Users/konstantin/ImageProcessing/task16/dataset/badger'):\n",
    "    img = cv.imread('/Users/konstantin/ImageProcessing/task16/dataset/badger/' + f, 0)\n",
    "    img = cv.resize(img, (size, size))\n",
    "    data = img.ravel()\n",
    "    X.append(data)\n",
    "    y.append('badger')\n",
    "\n",
    "for f in os.listdir('/Users/konstantin/ImageProcessing/task16/dataset/chipmunk'):\n",
    "    img = cv.imread('/Users/konstantin/ImageProcessing/task16/dataset/chipmunk/' + f, 0)\n",
    "    img = cv.resize(img, (size, size))\n",
    "    data = img.ravel()\n",
    "    X.append(data)\n",
    "    y.append('chipmunk')\n",
    "    # print(data)"
   ],
   "metadata": {
    "collapsed": false
   }
  },
  {
   "cell_type": "code",
   "execution_count": 23,
   "outputs": [
    {
     "name": "stdout",
     "output_type": "stream",
     "text": [
      "['badger']\n",
      "['chipmunk']\n",
      "['badger']\n",
      "['chipmunk']\n"
     ]
    }
   ],
   "source": [
    "clf = RandomForestClassifier(max_depth=1, random_state=0)\n",
    "clf.fit(X, y)\n",
    "\n",
    "test = []\n",
    "\n",
    "img = cv.imread('/Users/konstantin/ImageProcessing/task16/test/badger/badger.png', 0)\n",
    "img = cv.resize(img, (size, size))\n",
    "data = img.ravel()\n",
    "test.append(data)\n",
    "\n",
    "pred = clf.predict([test[0]])\n",
    "print(pred)\n",
    "\n",
    "img = cv.imread('/Users/konstantin/ImageProcessing/task16/test/chipmunk/chipmunk.png', 0)\n",
    "img = cv.resize(img, (size, size))\n",
    "data = img.ravel()\n",
    "test.append(data)\n",
    "\n",
    "pred = clf.predict([test[1]])\n",
    "print(pred)\n",
    "\n",
    "img = cv.imread('/Users/konstantin/ImageProcessing/task16/test/badger/img.png', 0)\n",
    "img = cv.resize(img, (size, size))\n",
    "data = img.ravel()\n",
    "test.append(data)\n",
    "\n",
    "pred = clf.predict([test[2]])\n",
    "print(pred)\n",
    "\n",
    "img = cv.imread('/Users/konstantin/ImageProcessing/task16/test/chipmunk/ch_img.png', 0)\n",
    "img = cv.resize(img, (size, size))\n",
    "data = img.ravel()\n",
    "test.append(data)\n",
    "\n",
    "pred = clf.predict([test[3]])\n",
    "print(pred)"
   ],
   "metadata": {
    "collapsed": false
   }
  },
  {
   "cell_type": "code",
   "execution_count": 22,
   "outputs": [],
   "source": [],
   "metadata": {
    "collapsed": false
   }
  }
 ],
 "metadata": {
  "kernelspec": {
   "display_name": "Python 3",
   "language": "python",
   "name": "python3"
  },
  "language_info": {
   "codemirror_mode": {
    "name": "ipython",
    "version": 2
   },
   "file_extension": ".py",
   "mimetype": "text/x-python",
   "name": "python",
   "nbconvert_exporter": "python",
   "pygments_lexer": "ipython2",
   "version": "2.7.6"
  }
 },
 "nbformat": 4,
 "nbformat_minor": 0
}
