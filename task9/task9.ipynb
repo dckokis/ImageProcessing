{
 "cells": [
  {
   "cell_type": "code",
   "execution_count": 126,
   "outputs": [],
   "source": [
    "import numpy as np\n",
    "import cv2 as cv\n",
    "\n",
    "\n",
    "# initial values\n",
    "brightness = 10\n",
    "contrast_value = 10\n",
    "angle_value = 0.0\n",
    "scale = 1.0\n",
    "\n",
    "marker_size = 2"
   ],
   "metadata": {
    "collapsed": false
   }
  },
  {
   "cell_type": "markdown",
   "source": [
    "## Upload image"
   ],
   "metadata": {
    "collapsed": false
   }
  },
  {
   "cell_type": "code",
   "execution_count": 127,
   "outputs": [],
   "source": [
    "img = cv.imread('Task-9.jpg')\n",
    "harris_img = img.copy()\n",
    "shi_tomachi_img = img.copy()\n",
    "transformed_img = img"
   ],
   "metadata": {
    "collapsed": false
   }
  },
  {
   "cell_type": "code",
   "execution_count": 128,
   "outputs": [],
   "source": [
    "# For affine\n",
    "height, width = img.shape[:2]\n",
    "center = (width / 2, height / 2)\n",
    "# For perpective\n",
    "point_list = list()\n",
    "point_list.append((0, 0))\n",
    "point_list.append((img.shape[1], 0))\n",
    "point_list.append((img.shape[1], img.shape[0]))\n",
    "point_list.append((0, img.shape[0]))\n",
    "point_for_change = 0\n",
    "# For Harris\n",
    "# block_size - It is the size of neighbourhood considered for corner detection.\n",
    "# k_size - Aperture parameter of the Sobel derivative used.\n",
    "# k_p - Harris detector free parameter in the equation.\n",
    "block_size = 2\n",
    "k_size = 3\n",
    "k_p = 0.001\n",
    "# For Shi_Tomachi\n",
    "corners_count = 80\n",
    "corners_quality = 0.05\n",
    "minimal_distance = 5\n",
    "show_gray_shi = 0"
   ],
   "metadata": {
    "collapsed": false
   }
  },
  {
   "cell_type": "markdown",
   "source": [
    "# Image transformations"
   ],
   "metadata": {
    "collapsed": false
   }
  },
  {
   "cell_type": "code",
   "execution_count": 129,
   "outputs": [],
   "source": [
    "def update():\n",
    "\tglobal transformed_img\n",
    "\ttransformed_img = img.copy()\n",
    "\tchange_brightness(brightness)\n",
    "\tchange_contrast(contrast_value)\n",
    "\trotation_matrix = cv.getRotationMatrix2D(center, angle_value, scale)\n",
    "\ttransformed_img = cv.warpAffine(transformed_img, rotation_matrix, (width, height))\n",
    "\t# For perspective transformation, you need a 3x3 transformation matrix. Straight lines will remain straight even after the transformation. To find this transformation matrix, you need 4 points on the input image and corresponding points on the output image. Among these 4 points, 3 of them should not be collinear. Then the transformation matrix can be found by the function cv.getPerspectiveTransform. Then apply cv.warpPerspective with this 3x3 transformation matrix.\n",
    "\tpoints_for_transformation = np.float32([[0, 0], [img.shape[1], 0], [img.shape[1], img.shape[0]], [0, img.shape[0]]])\n",
    "\tmatrix = cv.getPerspectiveTransform(\n",
    "\t\tpoints_for_transformation,\n",
    "\t\tnp.float32(point_list))\n",
    "\ttransformed_img = cv.warpPerspective(transformed_img, matrix, (img.shape[1], img.shape[0]), cv.INTER_CUBIC,\n",
    "\t\t\t\t\t\t\t\t\t\t borderMode=cv.BORDER_CONSTANT, borderValue=(0, 0, 0))\n",
    "\t# cv.imshow('Pic', transformed_img)\n",
    "\tupdate_Harris()\n",
    "\tupdate_Shi_tomachi()\n",
    "\n",
    "\n",
    "def change_brightness(brightness):\n",
    "\tglobal transformed_img\n",
    "\tif brightness != 0:\n",
    "\t\ttransformed_img = cv.addWeighted(transformed_img, (255 - brightness) / 255, transformed_img, 0, brightness)\n",
    "\n",
    "\n",
    "def change_contrast(contrast):\n",
    "\tglobal transformed_img\n",
    "\tif contrast != 0:\n",
    "\t\tf = 131 * (contrast + 127) / (127 * (131 - contrast))\n",
    "\t\ttransformed_img = cv.addWeighted(transformed_img, f, transformed_img, 0, 127 * (1 - f))\n",
    "\n",
    "\n",
    "def change_brightness_value(val):\n",
    "\tglobal brightness\n",
    "\tbrightness = val\n",
    "\tupdate()\n",
    "\n",
    "\n",
    "def change_contrast_value(val):\n",
    "\tglobal contrast_value\n",
    "\tcontrast_value = val\n",
    "\tupdate()\n",
    "\n",
    "\n",
    "def change_rotate_angle(val):\n",
    "\tglobal angle_value\n",
    "\tangle_value = val\n",
    "\tupdate()\n",
    "\n",
    "\n",
    "def change_rotate_scale(val):\n",
    "\tglobal scale\n",
    "\tif val > 0:\n",
    "\t\tscale = val / 10.0\n",
    "\t\tupdate()\n",
    "\n",
    "\n",
    "def change_point_x_val(val):\n",
    "\tglobal point_list\n",
    "\t_, old_y = point_list[point_for_change]\n",
    "\tpoint_list[point_for_change] = (val, old_y)\n",
    "\tupdate()\n",
    "\n",
    "\n",
    "def change_point_y_val(val):\n",
    "\tglobal point_list\n",
    "\told_x, _ = point_list[point_for_change]\n",
    "\tpoint_list[point_for_change] = (old_x, val)\n",
    "\tupdate()\n"
   ],
   "metadata": {
    "collapsed": false
   }
  },
  {
   "cell_type": "code",
   "execution_count": 130,
   "outputs": [],
   "source": [
    "def update_Harris():\n",
    "\tgray = cv.cvtColor(transformed_img, cv.COLOR_BGR2GRAY)\n",
    "\tcorners = cv.cornerHarris(gray, block_size, k_size, k_p)\n",
    "\tharris_img = transformed_img.copy()\n",
    "\tharris_img[corners > 0.01 * corners.max()] = [0, 255, 0]\n",
    "\tcv.imshow('Harris', harris_img)\n",
    "\n",
    "\n",
    "def change_block_size(val):\n",
    "\tglobal block_size\n",
    "\tblock_size = val\n",
    "\tupdate_Harris()\n",
    "\n",
    "\n",
    "def change_k_size(val):\n",
    "\tglobal k_size\n",
    "\t# четное ядро почему-то не отличается по эффекту от нечетного\n",
    "\tif val % 2 == 0:\n",
    "\t\tval += 1\n",
    "\tk_size = val\n",
    "\tupdate_Harris()\n",
    "\n",
    "\n",
    "def change_k_p(val):\n",
    "\tglobal k_p\n",
    "\tif val > 0:\n",
    "\t\tk_p = val / 100\n",
    "\t\tupdate_Harris()"
   ],
   "metadata": {
    "collapsed": false
   }
  },
  {
   "cell_type": "code",
   "execution_count": 131,
   "outputs": [],
   "source": [
    "def draw_markers_shi(img_, corners, color=(0, 255, 0)):\n",
    "\tcorners_int = np.int0(corners)\n",
    "\tfor corner in corners_int:\n",
    "\t\tx, y = corner.ravel()\n",
    "\t\tcv.drawMarker(img_, (x, y), color, cv.MARKER_CROSS, marker_size)\n",
    "\n",
    "\n",
    "def update_Shi_tomachi():\n",
    "\tgray = cv.cvtColor(transformed_img, cv.COLOR_BGR2GRAY)\n",
    "\tcorners = cv.goodFeaturesToTrack(gray, corners_count, corners_quality, minimal_distance)\n",
    "\tshi_tomachi_img = transformed_img.copy()\n",
    "\tcorners_int = np.int0(corners)\n",
    "\tfor corner in corners_int:\n",
    "\t\tx, y = corner.ravel()\n",
    "\t\tcv.drawMarker(shi_tomachi_img, (x, y), (0, 255, 0), cv.MARKER_CROSS, marker_size)\n",
    "\tcv.imshow('Shi-Tomachi', shi_tomachi_img)\n",
    "\n",
    "\n",
    "def change_corners_count(val):\n",
    "\tglobal corners_count\n",
    "\tif val > 0:\n",
    "\t\tcorners_count = val\n",
    "\t\tupdate_Shi_tomachi()\n",
    "\n",
    "\n",
    "def change_corners_quality(val):\n",
    "\tglobal corners_quality\n",
    "\tif val > 0:\n",
    "\t\tcorners_quality = val / 100.0\n",
    "\t\tupdate_Shi_tomachi()\n",
    "\n",
    "\n",
    "def change_minimal_distance(val):\n",
    "\tglobal minimal_distance\n",
    "\tminimal_distance = val\n",
    "\tupdate_Shi_tomachi()\n",
    "\n",
    "\n",
    "def change_marker_size(val):\n",
    "\tglobal marker_size\n",
    "\tmarker_size = val\n",
    "\tupdate_Shi_tomachi()"
   ],
   "metadata": {
    "collapsed": false
   }
  },
  {
   "cell_type": "code",
   "execution_count": 132,
   "outputs": [],
   "source": [
    "# Do some things with begin pic\n",
    "cv.namedWindow('Control')\n",
    "cv.createTrackbar('Brightness', 'Control', 0, 255, change_brightness_value)\n",
    "cv.createTrackbar('Contrast', 'Control', 0, 128, change_contrast_value)\n",
    "cv.createTrackbar('Angle', 'Control', 0, 360, change_rotate_angle)\n",
    "cv.createTrackbar('Scale', 'Control', 10, 360, change_rotate_scale)\n",
    "\n",
    "cv.createTrackbar('X', 'Control', 0, img.shape[1] - 1, change_point_x_val)\n",
    "cv.createTrackbar('Y', 'Control', 0, img.shape[0] - 1, change_point_y_val)\n",
    "\n",
    "#Harris corners\n",
    "cv.imshow('Harris', harris_img)\n",
    "cv.createTrackbar('Block size', 'Harris', 2, 50, change_block_size)\n",
    "cv.createTrackbar('Kernel size', 'Harris', 3, 31, change_k_size)\n",
    "cv.createTrackbar('K', 'Harris', 10, 100, change_k_p)\n",
    "\n",
    "#Shi-Tomachi corners\n",
    "cv.imshow('Shi-Tomachi', shi_tomachi_img)\n",
    "cv.createTrackbar('Corners count', 'Shi-Tomachi', 80, 300, change_corners_count)\n",
    "cv.createTrackbar('Quality', 'Shi-Tomachi', 5, 100, change_corners_quality)\n",
    "cv.createTrackbar('Min distance', 'Shi-Tomachi', 5, 100, change_minimal_distance)\n",
    "cv.createTrackbar('Marker size', 'Shi-Tomachi', 2, 30, change_marker_size)\n",
    "\n",
    "cv.waitKey(0)\n",
    "cv.destroyAllWindows()"
   ],
   "metadata": {
    "collapsed": false
   }
  }
 ],
 "metadata": {
  "kernelspec": {
   "display_name": "Python 3",
   "language": "python",
   "name": "python3"
  },
  "language_info": {
   "codemirror_mode": {
    "name": "ipython",
    "version": 2
   },
   "file_extension": ".py",
   "mimetype": "text/x-python",
   "name": "python",
   "nbconvert_exporter": "python",
   "pygments_lexer": "ipython2",
   "version": "2.7.6"
  }
 },
 "nbformat": 4,
 "nbformat_minor": 0
}
