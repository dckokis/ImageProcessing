{
 "cells": [
  {
   "cell_type": "code",
   "execution_count": 8,
   "outputs": [],
   "source": [
    "import numpy as np\n",
    "import cv2 as cv\n",
    "\n",
    "\n",
    "# initial values\n",
    "brightness = 10\n",
    "contrast_value = 10\n",
    "angle_value = 0.0\n",
    "scale = 1.0\n",
    "\n",
    "markerSize = 2"
   ],
   "metadata": {
    "collapsed": false
   }
  },
  {
   "cell_type": "markdown",
   "source": [
    "## Upload image"
   ],
   "metadata": {
    "collapsed": false
   }
  },
  {
   "cell_type": "code",
   "execution_count": 9,
   "outputs": [],
   "source": [
    "img = cv.imread('Task-9.jpg')\n",
    "harris_img = img.copy()\n",
    "shi_tomasi_img = img.copy()\n",
    "transformed_img = img"
   ],
   "metadata": {
    "collapsed": false
   }
  },
  {
   "cell_type": "code",
   "execution_count": 10,
   "outputs": [],
   "source": [
    "# For affine\n",
    "height, width = img.shape[:2]\n",
    "center = (width / 2, height / 2)\n",
    "# For perpective\n",
    "pointList = list()\n",
    "pointList.append((0, 0))\n",
    "pointList.append((img.shape[1], 0))\n",
    "pointList.append((img.shape[1], img.shape[0]))\n",
    "pointList.append((0, img.shape[0]))\n",
    "changablePoint = 0\n",
    "# For Harris\n",
    "# block_size - It is the size of neighbourhood considered for corner detection.\n",
    "# k_size - Aperture parameter of the Sobel derivative used.\n",
    "# k_p - Harris detector free parameter in the equation.\n",
    "blockSize = 2\n",
    "kernelSize = 3\n",
    "kParam = 0.001\n",
    "# For Shi_Tomasi\n",
    "amountOfCorners = 80\n",
    "cornersQuality = 0.05\n",
    "minimalDistance = 5"
   ],
   "metadata": {
    "collapsed": false
   }
  },
  {
   "cell_type": "markdown",
   "source": [
    "# Image transformations"
   ],
   "metadata": {
    "collapsed": false
   }
  },
  {
   "cell_type": "code",
   "execution_count": 11,
   "outputs": [],
   "source": [
    "def update():\n",
    "\tglobal transformed_img\n",
    "\ttransformed_img = img.copy()\n",
    "\tchange_brightness(brightness)\n",
    "\tchange_contrast(contrast_value)\n",
    "\trotation_matrix = cv.getRotationMatrix2D(center, angle_value, scale)\n",
    "\ttransformed_img = cv.warpAffine(transformed_img, rotation_matrix, (width, height))\n",
    "\t# For perspective transformation, you need a 3x3 transformation matrix. Straight lines will remain straight even after the transformation. To find this transformation matrix, you need 4 points on the input image and corresponding points on the output image. Among these 4 points, 3 of them should not be collinear. Then the transformation matrix can be found by the function cv.getPerspectiveTransform. Then apply cv.warpPerspective with this 3x3 transformation matrix.\n",
    "\tpoints_for_transformation = np.float32([[0, 0], [img.shape[1], 0], [img.shape[1], img.shape[0]], [0, img.shape[0]]])\n",
    "\tmatrix = cv.getPerspectiveTransform(\n",
    "\t\tpoints_for_transformation,\n",
    "\t\tnp.float32(pointList))\n",
    "\ttransformed_img = cv.warpPerspective(transformed_img, matrix, (img.shape[1], img.shape[0]), cv.INTER_CUBIC,\n",
    "\t\t\t\t\t\t\t\t\t\t borderMode=cv.BORDER_CONSTANT, borderValue=(0, 0, 0))\n",
    "\tupdate_Harris()\n",
    "\tupdate_Shi_Tomasi()\n",
    "\n",
    "\n",
    "def change_brightness(brightness):\n",
    "\tglobal transformed_img\n",
    "\tif brightness != 0:\n",
    "\t\ttransformed_img = cv.addWeighted(transformed_img, (255 - brightness) / 255, transformed_img, 0, brightness)\n",
    "\n",
    "\n",
    "def change_contrast(contrast):\n",
    "\tglobal transformed_img\n",
    "\tif contrast != 0:\n",
    "\t\talpha = 131 * (contrast + 127) / (127 * (131 - contrast))\n",
    "\t\tgamma = 127 * (1 - alpha)\n",
    "\t\ttransformed_img = cv.addWeighted(transformed_img, alpha, transformed_img, 0, gamma)\n",
    "\n",
    "\n",
    "def change_brightness_value(val):\n",
    "\tglobal brightness\n",
    "\tbrightness = val\n",
    "\tupdate()\n",
    "\n",
    "\n",
    "def change_contrast_value(val):\n",
    "\tglobal contrast_value\n",
    "\tcontrast_value = val\n",
    "\tupdate()\n",
    "\n",
    "\n",
    "def change_rotate_angle(val):\n",
    "\tglobal angle_value\n",
    "\tangle_value = val\n",
    "\tupdate()\n",
    "\n",
    "\n",
    "def change_rotate_scale(val):\n",
    "\tglobal scale\n",
    "\tif val > 0:\n",
    "\t\tscale = val / 10.0\n",
    "\t\tupdate()\n",
    "\n",
    "\n",
    "def change_point_x_val(val):\n",
    "\tglobal pointList\n",
    "\t_, old_y = pointList[changablePoint]\n",
    "\tpointList[changablePoint] = (val, old_y)\n",
    "\tupdate()\n",
    "\n",
    "\n",
    "def change_point_y_val(val):\n",
    "\tglobal pointList\n",
    "\told_x, _ = pointList[changablePoint]\n",
    "\tpointList[changablePoint] = (old_x, val)\n",
    "\tupdate()\n"
   ],
   "metadata": {
    "collapsed": false
   }
  },
  {
   "cell_type": "code",
   "execution_count": 12,
   "outputs": [],
   "source": [
    "def update_Harris():\n",
    "\tgray = cv.cvtColor(transformed_img, cv.COLOR_BGR2GRAY)\n",
    "\tcorners = cv.cornerHarris(gray, blockSize, kernelSize, kParam)\n",
    "\tharris_img = transformed_img.copy()\n",
    "\tharris_img[corners > 0.01 * corners.max()] = [0, 255, 0]\n",
    "\tcv.imshow('Harris', harris_img)\n",
    "\n",
    "\n",
    "def change_block_size(val):\n",
    "\tglobal blockSize\n",
    "\tblockSize = val\n",
    "\tupdate_Harris()\n",
    "\n",
    "\n",
    "def change_kernel_size(val):\n",
    "\tglobal kernelSize\n",
    "\tif val % 2 == 0:\n",
    "\t\tval += 1\n",
    "\tkernelSize = val\n",
    "\tupdate_Harris()\n",
    "\n",
    "\n",
    "def change_k_value(val):\n",
    "\tglobal kParam\n",
    "\tif val > 0:\n",
    "\t\tkParam = val / 100\n",
    "\t\tupdate_Harris()"
   ],
   "metadata": {
    "collapsed": false
   }
  },
  {
   "cell_type": "code",
   "execution_count": 13,
   "outputs": [],
   "source": [
    "def update_Shi_Tomasi():\n",
    "\tgray = cv.cvtColor(transformed_img, cv.COLOR_BGR2GRAY)\n",
    "\tcorners = cv.goodFeaturesToTrack(gray, amountOfCorners, cornersQuality, minimalDistance)\n",
    "\tshi_tomasi_img = transformed_img.copy()\n",
    "\tcorners_int = np.int0(corners)\n",
    "\tfor corner in corners_int:\n",
    "\t\tx, y = corner.ravel()\n",
    "\t\tcv.drawMarker(shi_tomasi_img, (x, y), (255, 0, 0), cv.MARKER_CROSS, markerSize)\n",
    "\tcv.imshow('Shi-Tomasi', shi_tomasi_img)\n",
    "\n",
    "\n",
    "def change_corners_amount(val):\n",
    "\tglobal amountOfCorners\n",
    "\tif val > 0:\n",
    "\t\tamountOfCorners = val\n",
    "\t\tupdate_Shi_Tomasi()\n",
    "\n",
    "\n",
    "def change_corners_quality(val):\n",
    "\tglobal cornersQuality\n",
    "\tif val > 0:\n",
    "\t\tcornersQuality = val / 100.0\n",
    "\t\tupdate_Shi_Tomasi()\n",
    "\n",
    "\n",
    "def change_minimal_distance(val):\n",
    "\tglobal minimalDistance\n",
    "\tminimalDistance = val\n",
    "\tupdate_Shi_Tomasi()\n",
    "\n",
    "\n",
    "def change_marker_size(val):\n",
    "\tglobal markerSize\n",
    "\tmarkerSize = val\n",
    "\tupdate_Shi_Tomasi()"
   ],
   "metadata": {
    "collapsed": false
   }
  },
  {
   "cell_type": "code",
   "execution_count": 14,
   "outputs": [],
   "source": [
    "# Change original picture\n",
    "cv.namedWindow('Control')\n",
    "cv.createTrackbar('Brightness', 'Control', brightness, 255, change_brightness_value)\n",
    "cv.createTrackbar('Contrast', 'Control', contrast_value, 128, change_contrast_value)\n",
    "cv.createTrackbar('Angle', 'Control', 0, 360, change_rotate_angle)\n",
    "cv.createTrackbar('Scale', 'Control', 10, 360, change_rotate_scale)\n",
    "cv.createTrackbar('X', 'Control', 0, int((img.shape[1] - 1) / 2), change_point_x_val)\n",
    "cv.createTrackbar('Y', 'Control', 0, int((img.shape[0] - 1) / 2), change_point_y_val)\n",
    "\n",
    "#Harris corners\n",
    "cv.imshow('Harris', harris_img)\n",
    "cv.createTrackbar('Block size', 'Harris', blockSize, 50, change_block_size)\n",
    "cv.createTrackbar('Kernel size', 'Harris', kernelSize, 31, change_kernel_size)\n",
    "cv.createTrackbar('K', 'Harris', 10, 100, change_k_value)\n",
    "\n",
    "#Shi-Tomasi corners\n",
    "cv.imshow('Shi-Tomasi', shi_tomasi_img)\n",
    "cv.createTrackbar('Corners count', 'Shi-Tomasi', amountOfCorners, 300, change_corners_amount)\n",
    "cv.createTrackbar('Quality', 'Shi-Tomasi', 5, 100, change_corners_quality)\n",
    "cv.createTrackbar('Min distance', 'Shi-Tomasi', minimalDistance, 100, change_minimal_distance)\n",
    "cv.createTrackbar('Marker size', 'Shi-Tomasi', markerSize, 30, change_marker_size)\n",
    "\n",
    "cv.waitKey(0)\n",
    "cv.destroyAllWindows()"
   ],
   "metadata": {
    "collapsed": false
   }
  }
 ],
 "metadata": {
  "kernelspec": {
   "display_name": "Python 3",
   "language": "python",
   "name": "python3"
  },
  "language_info": {
   "codemirror_mode": {
    "name": "ipython",
    "version": 2
   },
   "file_extension": ".py",
   "mimetype": "text/x-python",
   "name": "python",
   "nbconvert_exporter": "python",
   "pygments_lexer": "ipython2",
   "version": "2.7.6"
  }
 },
 "nbformat": 4,
 "nbformat_minor": 0
}
