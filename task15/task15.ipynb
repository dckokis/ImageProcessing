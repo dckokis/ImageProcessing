{
 "cells": [
  {
   "cell_type": "code",
   "execution_count": 178,
   "outputs": [],
   "source": [
    "import cv2 as cv\n",
    "import numpy as np"
   ],
   "metadata": {
    "collapsed": false
   }
  },
  {
   "cell_type": "code",
   "execution_count": 179,
   "outputs": [],
   "source": [
    "number_list = [cv.imread(\"0.jpg\", 0),\n",
    "\t\t\t   cv.imread(\"1.jpg\", 0),\n",
    "\t\t\t   cv.imread(\"2.jpg\", 0),\n",
    "\t\t\t   cv.imread(\"3.jpg\", 0),\n",
    "\t\t\t   cv.imread(\"4.jpg\", 0),\n",
    "\t\t\t   cv.imread(\"5.jpg\", 0),\n",
    "\t\t\t   cv.imread(\"6.jpg\", 0),\n",
    "\t\t\t   cv.imread(\"7.jpg\", 0),\n",
    "\t\t\t   cv.imread(\"8.jpg\", 0),\n",
    "\t\t\t   cv.imread(\"9.jpg\", 0)]\n",
    "\n",
    "image = cv.imread('match2.png')\n",
    "imgGray = cv.cvtColor(image, cv.COLOR_BGR2GRAY)\n",
    "template = cv.imread('win_label.jpg', 0)\n",
    "colon_template = cv.imread('colon.jpg', 0)"
   ],
   "metadata": {
    "collapsed": false
   }
  },
  {
   "cell_type": "code",
   "execution_count": 180,
   "outputs": [],
   "source": [
    "from functools import cmp_to_key\n",
    "\n",
    "\n",
    "time_region_width = 40\n",
    "\n",
    "\n",
    "class AdvancedNumber:\n",
    "\tdef __init__(self, number, box, isColon=False):\n",
    "\t\tself.number = number\n",
    "\t\tself.box = box\n",
    "\t\tself.isColon = isColon\n",
    "\n",
    "\n",
    "def findTemplateRegion(img, template):\n",
    "\tw = template.shape[::-1][0]\n",
    "\th = template.shape[::-1][1]\n",
    "\tres = cv.matchTemplate(img, template, cv.TM_CCOEFF_NORMED)\n",
    "\t_, _, _, max_loc = cv.minMaxLoc(res)\n",
    "\treturn max_loc, (max_loc[0] + w, max_loc[1] + h), res\n",
    "\n",
    "\n",
    "def findTemplateBoxes(img, template, threshold=0.9):\n",
    "\tw = template.shape[::-1][0]\n",
    "\th = template.shape[::-1][1]\n",
    "\tres = cv.matchTemplate(img, template, cv.TM_CCOEFF_NORMED)\n",
    "\tdetected_boxes = []\n",
    "\tloc = np.where(res >= threshold)\n",
    "\tfor pt in zip(*loc[::-1]):\n",
    "\t\tdetected_boxes.append((pt, (pt[0] + w, pt[1] + h)))\n",
    "\treturn detected_boxes\n",
    "\n",
    "\n",
    "def findCenter(box):\n",
    "\treturn (box[0][0] + box[1][0]) * 0.5\n",
    "\n",
    "\n",
    "def comparator(item1, item2):\n",
    "\tif findCenter(item1.box) < findCenter(item2.box):\n",
    "\t\treturn -1\n",
    "\telif findCenter(item1.box) > findCenter(item2.box):\n",
    "\t\treturn 1\n",
    "\telse:\n",
    "\t\treturn 0"
   ],
   "metadata": {
    "collapsed": false
   }
  },
  {
   "cell_type": "code",
   "execution_count": 181,
   "outputs": [],
   "source": [
    "top_left, bottom_right, _ = findTemplateRegion(imgGray, template)\n",
    "time_region = imgGray[top_left[1]: bottom_right[1], bottom_right[0]: bottom_right[0] + time_region_width]"
   ],
   "metadata": {
    "collapsed": false
   }
  },
  {
   "cell_type": "code",
   "execution_count": 182,
   "outputs": [
    {
     "name": "stdout",
     "output_type": "stream",
     "text": [
      "38:49\n"
     ]
    }
   ],
   "source": [
    "founded_number = []\n",
    "for idx, number in enumerate(number_list):\n",
    "\tboxes = findTemplateBoxes(time_region, number)\n",
    "\tfor box in boxes:\n",
    "\t\tfounded_number.append(AdvancedNumber(idx, box))\n",
    "\n",
    "colons = findTemplateBoxes(time_region, colon_template)\n",
    "for colon in colons:\n",
    "\tfounded_number.append(AdvancedNumber(-1, colon, True))\n",
    "\n",
    "founded_number = sorted(founded_number, key=cmp_to_key(comparator))\n",
    "time = ''\n",
    "for number in founded_number:\n",
    "\tif number.isColon:\n",
    "\t\ttime += ':'\n",
    "\telse:\n",
    "\t\ttime += str(number.number)\n",
    "\n",
    "print(time)"
   ],
   "metadata": {
    "collapsed": false
   }
  }
 ],
 "metadata": {
  "kernelspec": {
   "display_name": "Python 3",
   "language": "python",
   "name": "python3"
  },
  "language_info": {
   "codemirror_mode": {
    "name": "ipython",
    "version": 2
   },
   "file_extension": ".py",
   "mimetype": "text/x-python",
   "name": "python",
   "nbconvert_exporter": "python",
   "pygments_lexer": "ipython2",
   "version": "2.7.6"
  }
 },
 "nbformat": 4,
 "nbformat_minor": 0
}
