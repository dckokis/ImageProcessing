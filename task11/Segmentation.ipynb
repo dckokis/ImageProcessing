{
 "cells": [
  {
   "cell_type": "code",
   "execution_count": 4,
   "outputs": [],
   "source": [
    "import numpy as np\n",
    "import cv2\n",
    "import matplotlib.pyplot as plt\n",
    "\n",
    "\n",
    "saveSteps = False\n",
    "lowThreshold = 0\n",
    "numberOfIterations = 5\n",
    "image = cv2.imread('img.png')"
   ],
   "metadata": {
    "collapsed": false
   }
  },
  {
   "cell_type": "code",
   "execution_count": 5,
   "outputs": [],
   "source": [
    "def update():\n",
    "\timg_copy = image.copy()\n",
    "\tgray = cv2.cvtColor(img_copy, cv2.COLOR_BGR2GRAY)\n",
    "\t_, thresh = cv2.threshold(gray, lowThreshold, 255, cv2.THRESH_BINARY_INV + cv2.THRESH_OTSU)\n",
    "\tkernel = np.ones((3, 3), np.uint8)\n",
    "\tbackground = cv2.dilate(thresh, kernel, iterations=numberOfIterations)\n",
    "\tafterDistanceTransformation = cv2.distanceTransform(background, 1, 5)\n",
    "\tafterDistanceTransformation = np.uint8(afterDistanceTransformation)\n",
    "\t_, foreground = cv2.threshold(afterDistanceTransformation, lowThreshold, 255, 0)\n",
    "\n",
    "\tforeground = np.uint8(foreground)\n",
    "\tunknownRegions = cv2.subtract(background, foreground)\n",
    "\n",
    "\t_, markers = cv2.connectedComponents(foreground)\n",
    "\tmarkers = markers + 1\n",
    "\n",
    "\tmarkers[unknownRegions == 255] = 0\n",
    "\n",
    "\tmarkers = cv2.watershed(img_copy, markers)\n",
    "\n",
    "\timg_copy[markers == -1] = (0, 0, 255)\n",
    "\tcv2.imshow(\"img\", img_copy)\n",
    "\n",
    "\tif saveSteps:\n",
    "\t\tplt.rcParams['figure.dpi'] = 250\n",
    "\t\tplt.subplot(241)\n",
    "\t\tplt.imshow(cv2.cvtColor(image, cv2.COLOR_BGR2RGB)),\n",
    "\t\tplt.title('Original')\n",
    "\t\tplt.axis('off')\n",
    "\t\tplt.subplot(242)\n",
    "\t\tplt.imshow(thresh, cmap='gray'),\n",
    "\t\tplt.title('Threshold')\n",
    "\t\tplt.axis('off')\n",
    "\t\tplt.subplot(243)\n",
    "\t\tplt.imshow(background, cmap='gray'),\n",
    "\t\tplt.title('Dilate')\n",
    "\t\tplt.axis('off')\n",
    "\t\tplt.subplot(244)\n",
    "\t\tplt.imshow(afterDistanceTransformation, cmap='gray'),\n",
    "\t\tplt.title('Dist Transform')\n",
    "\t\tplt.axis('off')\n",
    "\t\tplt.subplot(245)\n",
    "\t\tplt.imshow(foreground, cmap='gray'),\n",
    "\t\tplt.title('Threshold')\n",
    "\t\tplt.axis('off')\n",
    "\t\tplt.subplot(246)\n",
    "\t\tplt.imshow(unknownRegions, cmap='gray'),\n",
    "\t\tplt.title('Unknow')\n",
    "\t\tplt.axis('off')\n",
    "\t\tplt.subplot(247)\n",
    "\t\tplt.imshow(np.abs(markers), cmap='jet'),\n",
    "\t\tplt.title('Markers')\n",
    "\t\tplt.axis('off')\n",
    "\t\tplt.subplot(248)\n",
    "\t\tplt.imshow(cv2.cvtColor(img_copy, cv2.COLOR_BGR2RGB)),\n",
    "\t\tplt.title('Result')\n",
    "\t\tplt.axis('off')\n",
    "\t\tplt.savefig('steps.png')\n",
    "\n",
    "\n",
    "def changeLowThresholdValue(val):\n",
    "\tglobal lowThreshold\n",
    "\tlowThreshold = val\n",
    "\tupdate()\n",
    "\n",
    "\n",
    "def changeNumberOfIterations(val):\n",
    "\tglobal numberOfIterations\n",
    "\tnumberOfIterations = val\n",
    "\tupdate()"
   ],
   "metadata": {
    "collapsed": false
   }
  },
  {
   "cell_type": "code",
   "execution_count": 6,
   "outputs": [],
   "source": [
    "cv2.namedWindow('Control')\n",
    "cv2.createTrackbar('thresh low', 'Control', 20, 255, changeLowThresholdValue)\n",
    "cv2.createTrackbar('iterations', 'Control', 5, 100, changeNumberOfIterations)\n",
    "cv2.waitKey(0)\n",
    "cv2.destroyAllWindows()"
   ],
   "metadata": {
    "collapsed": false
   }
  }
 ],
 "metadata": {
  "kernelspec": {
   "display_name": "Python 3",
   "language": "python",
   "name": "python3"
  },
  "language_info": {
   "codemirror_mode": {
    "name": "ipython",
    "version": 2
   },
   "file_extension": ".py",
   "mimetype": "text/x-python",
   "name": "python",
   "nbconvert_exporter": "python",
   "pygments_lexer": "ipython2",
   "version": "2.7.6"
  }
 },
 "nbformat": 4,
 "nbformat_minor": 0
}
