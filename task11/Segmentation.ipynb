{
 "cells": [
  {
   "cell_type": "code",
   "execution_count": 130,
   "outputs": [],
   "source": [
    "import numpy as np\n",
    "import cv2\n",
    "import matplotlib.pyplot as plt\n",
    "\n",
    "\n",
    "save_steps = False\n",
    "low_threshold = 0\n",
    "iteration_num = 5\n",
    "src = cv2.imread('img.png')"
   ],
   "metadata": {
    "collapsed": false
   }
  },
  {
   "cell_type": "code",
   "execution_count": 131,
   "outputs": [],
   "source": [
    "def update():\n",
    "\timg = src.copy()\n",
    "\tgray = cv2.cvtColor(img, cv2.COLOR_BGR2GRAY)\n",
    "\t_, thresh = cv2.threshold(gray, low_threshold, 255, cv2.THRESH_BINARY_INV + cv2.THRESH_OTSU)\n",
    "\tkernel = np.ones((3, 3), np.uint8)\n",
    "\tsure_bg = cv2.dilate(thresh, kernel, iterations=iteration_num)\n",
    "\tdist_transform = cv2.distanceTransform(sure_bg, 1, 5)\n",
    "\tdist_transform = np.uint8(dist_transform)\n",
    "\t_, sure_fg = cv2.threshold(dist_transform, low_threshold, 255, 0)\n",
    "\n",
    "\tsure_fg = np.uint8(sure_fg)\n",
    "\tunknown = cv2.subtract(sure_bg, sure_fg)\n",
    "\n",
    "\t_, markers = cv2.connectedComponents(sure_fg)\n",
    "\tmarkers = markers + 1\n",
    "\n",
    "\tmarkers[unknown == 255] = 0\n",
    "\n",
    "\tmarkers = cv2.watershed(img, markers)\n",
    "\n",
    "\timg[markers == -1] = (0, 0, 255)\n",
    "\t# img = cv2.resize(img, (800, 800))\n",
    "\tcv2.imshow(\"img\", img)\n",
    "\n",
    "\tif save_steps:\n",
    "\t\tplt.rcParams['figure.dpi'] = 250\n",
    "\t\tplt.subplot(241)\n",
    "\t\tplt.imshow(cv2.cvtColor(src, cv2.COLOR_BGR2RGB)),\n",
    "\t\tplt.title('Original')\n",
    "\t\tplt.axis('off')\n",
    "\t\tplt.subplot(242)\n",
    "\t\tplt.imshow(thresh, cmap='gray'),\n",
    "\t\tplt.title('Threshold')\n",
    "\t\tplt.axis('off')\n",
    "\t\tplt.subplot(243)\n",
    "\t\tplt.imshow(sure_bg, cmap='gray'),\n",
    "\t\tplt.title('Dilate')\n",
    "\t\tplt.axis('off')\n",
    "\t\tplt.subplot(244)\n",
    "\t\tplt.imshow(dist_transform, cmap='gray'),\n",
    "\t\tplt.title('Dist Transform')\n",
    "\t\tplt.axis('off')\n",
    "\t\tplt.subplot(245)\n",
    "\t\tplt.imshow(sure_fg, cmap='gray'),\n",
    "\t\tplt.title('Threshold')\n",
    "\t\tplt.axis('off')\n",
    "\t\tplt.subplot(246)\n",
    "\t\tplt.imshow(unknown, cmap='gray'),\n",
    "\t\tplt.title('Unknow')\n",
    "\t\tplt.axis('off')\n",
    "\t\tplt.subplot(247)\n",
    "\t\tplt.imshow(np.abs(markers), cmap='jet'),\n",
    "\t\tplt.title('Markers')\n",
    "\t\tplt.axis('off')\n",
    "\t\tplt.subplot(248)\n",
    "\t\tplt.imshow(cv2.cvtColor(img, cv2.COLOR_BGR2RGB)),\n",
    "\t\tplt.title('Result')\n",
    "\t\tplt.axis('off')\n",
    "\t\tplt.savefig('steps.png')\n",
    "\n",
    "\n",
    "def change_low_threshold(val):\n",
    "\tglobal low_threshold\n",
    "\tlow_threshold = val\n",
    "\tupdate()\n",
    "\n",
    "\n",
    "def change_iteration_num(val):\n",
    "\tglobal iteration_num\n",
    "\titeration_num = val\n",
    "\tupdate()"
   ],
   "metadata": {
    "collapsed": false
   }
  },
  {
   "cell_type": "code",
   "execution_count": 132,
   "outputs": [],
   "source": [
    "cv2.namedWindow('Control')\n",
    "cv2.createTrackbar('thresh low', 'Control', 20, 255, change_low_threshold)\n",
    "cv2.createTrackbar('iterations', 'Control', 5, 100, change_iteration_num)\n",
    "cv2.waitKey(0)\n",
    "cv2.destroyAllWindows()"
   ],
   "metadata": {
    "collapsed": false
   }
  }
 ],
 "metadata": {
  "kernelspec": {
   "display_name": "Python 3",
   "language": "python",
   "name": "python3"
  },
  "language_info": {
   "codemirror_mode": {
    "name": "ipython",
    "version": 2
   },
   "file_extension": ".py",
   "mimetype": "text/x-python",
   "name": "python",
   "nbconvert_exporter": "python",
   "pygments_lexer": "ipython2",
   "version": "2.7.6"
  }
 },
 "nbformat": 4,
 "nbformat_minor": 0
}
