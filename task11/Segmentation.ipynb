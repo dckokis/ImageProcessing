{
 "cells": [
  {
   "cell_type": "code",
   "execution_count": 70,
   "metadata": {
    "collapsed": true
   },
   "outputs": [],
   "source": [
    "import numpy as np\n",
    "import cv2 as cv\n",
    "from scipy.ndimage import label\n",
    "\n",
    "\n",
    "img = cv.imread(\"segmentation.jpg\")\n",
    "img = cv.resize(img, (800, 800))\n",
    "gray = cv.cvtColor(img, cv.COLOR_BGR2GRAY)\n",
    "# noise removal\n",
    "ret, img_morph = cv.threshold(gray, 0, 255, cv.THRESH_OTSU)\n",
    "kernel = np.ones((3, 3), np.uint8)\n",
    "img_morph = cv.morphologyEx(img_morph, cv.MORPH_OPEN, kernel)\n",
    "img_copy = img.copy()"
   ]
  },
  {
   "cell_type": "code",
   "execution_count": 71,
   "outputs": [],
   "source": [
    "low_threshold = 0\n",
    "high_threshold = 255\n",
    "iteration_num = 5\n",
    "INTERNAL_STEPS = False\n",
    "\n",
    "\n",
    "def update():\n",
    "\t# sure background area\n",
    "\tdilated_img = cv.dilate(img_morph, kernel, iterations=iteration_num)\n",
    "\n",
    "\t# erosion\n",
    "\tdilated_img = dilated_img - cv.erode(dilated_img, None)\n",
    "\n",
    "\t# Finding sure foreground area\n",
    "\tdistances_transform = cv.distanceTransform(img_morph, cv.DIST_L2, 3)\n",
    "\n",
    "\tif INTERNAL_STEPS:\n",
    "\t\tcv.imshow('distances', distances_transform)\n",
    "\n",
    "\t_, thresh = cv.threshold(distances_transform, low_threshold, high_threshold, cv.THRESH_BINARY)\n",
    "\n",
    "\tif INTERNAL_STEPS:\n",
    "\t\t# show thresh changing\n",
    "\t\tcv.imshow('thresh', thresh)\n",
    "\n",
    "\tlabels, num_features = label(thresh)\n",
    "\t# Multiplying label array on 255 / (number of features + 1) to prevent deviding on zero\n",
    "\tlabels = labels * (255 / (num_features + 1))\n",
    "\t# Completing the markers now\n",
    "\tlabels[dilated_img == 255] = 255\n",
    "\t# Using watershed\n",
    "\tlabels = labels.astype(np.int32)\n",
    "\tlabels = cv.watershed(img, labels)\n",
    "\tif INTERNAL_STEPS:\n",
    "\t\tcv.imshow('labels', cv.convertScaleAbs(labels))\n",
    "\t# Changing values that is equal -1\n",
    "\tlabels[labels == -1] = 0\n",
    "\t# Getting outlines as result\n",
    "\tmarkers = 255 - labels.astype(np.uint8)\n",
    "\tmarkers[markers != 255] = 0\n",
    "\tmarkers = cv.dilate(markers, None)\n",
    "\t#copy original image to add on it edges\n",
    "\tresult = img.copy()\n",
    "\tresult[markers == 255] = (0, 255, 0)\n",
    "\tif INTERNAL_STEPS:\n",
    "\t\tcv.imshow('Outlines', markers)\n",
    "\tcv.imshow('Result', result)\n",
    "\n",
    "\n",
    "def change_low_threshold(val):\n",
    "\tglobal low_threshold\n",
    "\tlow_threshold = val\n",
    "\tupdate()\n",
    "\n",
    "\n",
    "def change_iteration_num(val):\n",
    "\tglobal iteration_num\n",
    "\titeration_num = val\n",
    "\tupdate()"
   ],
   "metadata": {
    "collapsed": false
   }
  },
  {
   "cell_type": "code",
   "execution_count": 72,
   "outputs": [],
   "source": [
    "cv.imshow('thresh', img_morph)\n",
    "cv.createTrackbar('thresh low', 'thresh', 20, 255, change_low_threshold)\n",
    "cv.createTrackbar('iterations', 'thresh', 5, 100, change_iteration_num)\n",
    "cv.waitKey(0)\n",
    "cv.destroyAllWindows()"
   ],
   "metadata": {
    "collapsed": false
   }
  }
 ],
 "metadata": {
  "kernelspec": {
   "display_name": "Python 3",
   "language": "python",
   "name": "python3"
  },
  "language_info": {
   "codemirror_mode": {
    "name": "ipython",
    "version": 2
   },
   "file_extension": ".py",
   "mimetype": "text/x-python",
   "name": "python",
   "nbconvert_exporter": "python",
   "pygments_lexer": "ipython2",
   "version": "2.7.6"
  }
 },
 "nbformat": 4,
 "nbformat_minor": 0
}
