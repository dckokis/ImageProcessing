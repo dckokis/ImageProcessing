{
 "cells": [
  {
   "cell_type": "markdown",
   "source": [
    "### To run next test press ESC when you see the Matches window"
   ],
   "metadata": {
    "collapsed": false
   }
  },
  {
   "cell_type": "code",
   "execution_count": 25,
   "outputs": [],
   "source": [
    "import cv2 as cv\n",
    "\n",
    "\n",
    "MAX_FEATURES = 100\n",
    "GOOD_MATCH_PERCENT = 0.18"
   ],
   "metadata": {
    "collapsed": false
   }
  },
  {
   "cell_type": "code",
   "execution_count": 26,
   "outputs": [],
   "source": [
    "def filterMatches(_matches):\n",
    "\t_matches = sorted(_matches, key=lambda x: x.distance, reverse=False)\n",
    "\treturn _matches[:int(len(_matches) * GOOD_MATCH_PERCENT)]"
   ],
   "metadata": {
    "collapsed": false
   }
  },
  {
   "cell_type": "code",
   "execution_count": 27,
   "outputs": [],
   "source": [
    "def matchImages(image1, image2):\n",
    "\tim1Gray = cv.cvtColor(image1, cv.COLOR_BGR2GRAY)\n",
    "\tim2Gray = cv.cvtColor(image2, cv.COLOR_BGR2GRAY)\n",
    "\n",
    "\torb = cv.ORB_create(MAX_FEATURES)\n",
    "\tkeyPoints1, descriptors1 = orb.detectAndCompute(im1Gray, None)\n",
    "\tkeyPoints2, descriptors2 = orb.detectAndCompute(im2Gray, None)\n",
    "\n",
    "\tmatches = cv.DescriptorMatcher_create(cv.NORM_HAMMING).match(descriptors1, descriptors2, None)\n",
    "\tmatches = filterMatches(matches)\n",
    "\n",
    "\timMatches = cv.drawMatches(image1, keyPoints1, image2, keyPoints2, matches, None)\n",
    "\tcv.imshow(\"Matches\", imMatches)"
   ],
   "metadata": {
    "collapsed": false
   }
  },
  {
   "cell_type": "code",
   "execution_count": 28,
   "outputs": [],
   "source": [
    "def showResult(_im, _imReference):\n",
    "\tmatchImages(_im, _imReference)\n",
    "\t# cv.imshow(\"Reference\", _imReference)\n",
    "\t# cv.imshow(\"Image\", _im)\n",
    "\tcv.waitKey(0)\n",
    "\tcv.destroyAllWindows()"
   ],
   "metadata": {
    "collapsed": false
   }
  },
  {
   "cell_type": "code",
   "execution_count": 29,
   "outputs": [],
   "source": [
    "imReference = cv.imread(\"formReference.jpg\", cv.IMREAD_COLOR)\n",
    "im = cv.imread(\"form.jpg\", cv.IMREAD_COLOR)"
   ],
   "metadata": {
    "collapsed": false
   }
  },
  {
   "cell_type": "code",
   "execution_count": 30,
   "outputs": [],
   "source": [
    "showResult(im, imReference)"
   ],
   "metadata": {
    "collapsed": false
   }
  },
  {
   "cell_type": "code",
   "execution_count": 31,
   "outputs": [],
   "source": [
    "imReference = cv.imread(\"ColiseumReference.jpg\", cv.IMREAD_COLOR)\n",
    "im = cv.imread(\"Coliseum.jpg\", cv.IMREAD_COLOR)\n",
    "imReference = cv.resize(imReference, (im.shape[1], im.shape[0]))"
   ],
   "metadata": {
    "collapsed": false
   }
  },
  {
   "cell_type": "code",
   "execution_count": 32,
   "outputs": [],
   "source": [
    "showResult(im, imReference)"
   ],
   "metadata": {
    "collapsed": false
   }
  }
 ],
 "metadata": {
  "kernelspec": {
   "display_name": "Python 3",
   "language": "python",
   "name": "python3"
  },
  "language_info": {
   "codemirror_mode": {
    "name": "ipython",
    "version": 2
   },
   "file_extension": ".py",
   "mimetype": "text/x-python",
   "name": "python",
   "nbconvert_exporter": "python",
   "pygments_lexer": "ipython2",
   "version": "2.7.6"
  }
 },
 "nbformat": 4,
 "nbformat_minor": 0
}
