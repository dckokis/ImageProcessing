{
 "cells": [
  {
   "cell_type": "markdown",
   "source": [
    "### To run next test press ESC when you see the Matches window"
   ],
   "metadata": {
    "collapsed": false
   }
  },
  {
   "cell_type": "code",
   "execution_count": 31,
   "outputs": [],
   "source": [
    "import cv2 as cv\n",
    "\n",
    "\n",
    "MAX_FEATURES = 100\n",
    "GOOD_MATCH_PERCENT = 0.25"
   ],
   "metadata": {
    "collapsed": false
   }
  },
  {
   "cell_type": "code",
   "execution_count": 32,
   "outputs": [],
   "source": [
    "def filterMatches(_matches):\n",
    "\t# Sort matches by score\n",
    "\t_matches = sorted(_matches, key=lambda x: x.distance, reverse=False)\n",
    "\n",
    "\t# Remove not so good matches\n",
    "\tgoodMatchesAmount = int(len(_matches) * GOOD_MATCH_PERCENT)\n",
    "\treturn _matches[:goodMatchesAmount]"
   ],
   "metadata": {
    "collapsed": false
   }
  },
  {
   "cell_type": "code",
   "execution_count": 33,
   "outputs": [],
   "source": [
    "def matchImages(image1, image2):\n",
    "\tim1Gray = cv.cvtColor(image1, cv.COLOR_BGR2GRAY)\n",
    "\tim2Gray = cv.cvtColor(image2, cv.COLOR_BGR2GRAY)\n",
    "\n",
    "\t# Detect ORB features and compute descriptors.\n",
    "\torb = cv.ORB_create(MAX_FEATURES)\n",
    "\tkeyPoints1, descriptors1 = orb.detectAndCompute(im1Gray, None)\n",
    "\tkeyPoints2, descriptors2 = orb.detectAndCompute(im2Gray, None)\n",
    "\n",
    "\t# Match features.\n",
    "\tmatches = cv.DescriptorMatcher_create(cv.DESCRIPTOR_MATCHER_BRUTEFORCE_HAMMING).match(descriptors1, descriptors2,\n",
    "\t\t\t\t\t\t\t\t\t\t\t\t\t\t\t\t\t\t\t\t\t\t  None)\n",
    "\n",
    "\tmatches = filterMatches(matches)\n",
    "\n",
    "\t# Draw top matches\n",
    "\timMatches = cv.drawMatches(image1, keyPoints1, image2, keyPoints2, matches, None)\n",
    "\tcv.imshow(\"Matches\", imMatches)"
   ],
   "metadata": {
    "collapsed": false
   }
  },
  {
   "cell_type": "code",
   "execution_count": 34,
   "outputs": [],
   "source": [
    "def showResult(_im, _imReference):\n",
    "\tmatchImages(_im, _imReference)\n",
    "\t# cv.imshow(\"Reference\", _imReference)\n",
    "\t# cv.imshow(\"Image\", _im)\n",
    "\tcv.waitKey(0)\n",
    "\tcv.destroyAllWindows()"
   ],
   "metadata": {
    "collapsed": false
   }
  },
  {
   "cell_type": "code",
   "execution_count": 35,
   "outputs": [],
   "source": [
    "#Test 1\n",
    "# Read reference image\n",
    "imReference = cv.imread(\"formReference.jpg\", cv.IMREAD_COLOR)\n",
    "\n",
    "# Read image to be aligned\n",
    "im = cv.imread(\"form.jpg\", cv.IMREAD_COLOR)"
   ],
   "metadata": {
    "collapsed": false
   }
  },
  {
   "cell_type": "code",
   "execution_count": 36,
   "outputs": [],
   "source": [
    "showResult(im, imReference)"
   ],
   "metadata": {
    "collapsed": false
   }
  },
  {
   "cell_type": "code",
   "execution_count": 37,
   "outputs": [],
   "source": [
    "#Test 2\n",
    "# Read reference image\n",
    "imReference = cv.imread(\"ColiseumReference.jpg\", cv.IMREAD_COLOR)\n",
    "\n",
    "# Read image to be aligned\n",
    "im = cv.imread(\"Coliseum.jpg\", cv.IMREAD_COLOR)\n",
    "imReference = cv.resize(imReference, (im.shape[1], im.shape[0]))"
   ],
   "metadata": {
    "collapsed": false
   }
  },
  {
   "cell_type": "code",
   "execution_count": 38,
   "outputs": [],
   "source": [
    "showResult(im, imReference)"
   ],
   "metadata": {
    "collapsed": false
   }
  },
  {
   "cell_type": "code",
   "execution_count": 39,
   "outputs": [],
   "source": [
    "#Test 3\n",
    "# Read reference image\n",
    "imReference = cv.imread(\"LaysReference.png\", cv.IMREAD_COLOR)\n",
    "\n",
    "# Read image to be aligned\n",
    "im = cv.imread(\"Lays.jpg\", cv.IMREAD_COLOR)"
   ],
   "metadata": {
    "collapsed": false
   }
  },
  {
   "cell_type": "code",
   "execution_count": 40,
   "outputs": [],
   "source": [
    "showResult(im, imReference)"
   ],
   "metadata": {
    "collapsed": false
   }
  }
 ],
 "metadata": {
  "kernelspec": {
   "display_name": "Python 3",
   "language": "python",
   "name": "python3"
  },
  "language_info": {
   "codemirror_mode": {
    "name": "ipython",
    "version": 2
   },
   "file_extension": ".py",
   "mimetype": "text/x-python",
   "name": "python",
   "nbconvert_exporter": "python",
   "pygments_lexer": "ipython2",
   "version": "2.7.6"
  }
 },
 "nbformat": 4,
 "nbformat_minor": 0
}
